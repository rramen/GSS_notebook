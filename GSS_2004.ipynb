{
 "cells": [
  {
   "cell_type": "code",
   "execution_count": null,
   "metadata": {},
   "outputs": [],
   "source": [
    "import os\n",
    "import numpy as np\n",
    "import pandas as pd\n",
    "import statsmodels.formula.api as sm\n",
    "import seaborn as sns\n",
    "pd.options.mode.chained_assignment = None\n",
    "\n",
    "#read in data\n",
    "df4 = pd.read_stata('GSS2004.dta', convert_categoricals=False, convert_missing=False)\n",
    "df4"
   ]
  },
  {
   "cell_type": "code",
   "execution_count": null,
   "metadata": {},
   "outputs": [],
   "source": [
    "#get rid of no_responses\n",
    "df4 = df4[(df4['rincome'].notna()) & (df4['spkhome1'].notna()) & (df4['born'].notna()) & (df4['parborn'].notna()) & (df4['granborn'].notna()) & (df4['educ1'].notna()) & (df4['citizen'].notna())]\n",
    "df4.describe()"
   ]
  },
  {
   "cell_type": "markdown",
   "metadata": {},
   "source": [
    "### INCOME"
   ]
  },
  {
   "cell_type": "code",
   "execution_count": null,
   "metadata": {},
   "outputs": [],
   "source": [
    "df4['rincom98'].describe()"
   ]
  },
  {
   "cell_type": "markdown",
   "metadata": {},
   "source": [
    "### IMMIGRANT\n",
    "Born in US(0), Born outside US(1)"
   ]
  },
  {
   "cell_type": "code",
   "execution_count": null,
   "metadata": {},
   "outputs": [],
   "source": [
    "#create dummy variable for immigrant/non_immigrant\n",
    "df4['imm'] = np.where(df4['born'] == 1, 0, 1)\n",
    "df4['imm'].describe()"
   ]
  },
  {
   "cell_type": "code",
   "execution_count": null,
   "metadata": {},
   "outputs": [],
   "source": [
    "sns.histplot(df4.imm)"
   ]
  },
  {
   "cell_type": "code",
   "execution_count": null,
   "metadata": {},
   "outputs": [],
   "source": [
    "#income and immigration status regression\n",
    "imm_income = sm.ols(formula=\"rincom98 ~ imm\", data=df4).fit()\n",
    "imm_income.summary()"
   ]
  },
  {
   "cell_type": "markdown",
   "metadata": {},
   "source": [
    "**Little correlation between immigration status and personal income**"
   ]
  },
  {
   "cell_type": "code",
   "execution_count": null,
   "metadata": {},
   "outputs": [],
   "source": [
    "sns.lmplot(x=\"imm\", y=\"rincom98\", data=df4, x_estimator=np.mean).set(xlabel='immigrant', ylabel='income')"
   ]
  },
  {
   "cell_type": "code",
   "execution_count": null,
   "metadata": {},
   "outputs": [],
   "source": [
    "sns.boxplot(x=\"imm\", y=\"rincom98\", data=df4).set(xlabel='immigrant', ylabel='income')"
   ]
  },
  {
   "cell_type": "code",
   "execution_count": null,
   "metadata": {},
   "outputs": [],
   "source": [
    "sns.boxplot(x=\"day\", y=\"tip\", data=tips, capsize=.2)\n"
   ]
  },
  {
   "cell_type": "markdown",
   "metadata": {},
   "source": [
    "### GENERATION: \n",
    "First_gen(1), Second_gen(2), Native(3)"
   ]
  },
  {
   "cell_type": "code",
   "execution_count": null,
   "metadata": {},
   "outputs": [],
   "source": [
    "#function to sort population into \"generations\"\n",
    "def label_gen(row):\n",
    "    if (row['born'] == 2) & ((row['parborn'] == 1) or (row['parborn'] == 2) or (row['parborn'] == 3) or (row['parborn'] == 8)):\n",
    "        return 1\n",
    "    if (row['born'] == 1) & ((row['parborn'] == 1) or (row['parborn'] == 2) or (row['parborn'] == 3) or (row['parborn'] == 8)):\n",
    "        return 2\n",
    "    if (row['born'] == 1) & (row['parborn'] == 0):\n",
    "        return 3\n",
    "    return 3"
   ]
  },
  {
   "cell_type": "code",
   "execution_count": null,
   "metadata": {},
   "outputs": [],
   "source": [
    "#applying sorting function\n",
    "df4['gen'] = df4.apply(lambda row : label_gen(row), axis=1).astype(int)\n",
    "sns.histplot(df4.gen)"
   ]
  },
  {
   "cell_type": "code",
   "execution_count": null,
   "metadata": {},
   "outputs": [],
   "source": [
    "imm_income = sm.ols(formula=\"rincom98 ~ gen\", data=df4).fit()\n",
    "imm_income.summary()"
   ]
  },
  {
   "cell_type": "code",
   "execution_count": null,
   "metadata": {},
   "outputs": [],
   "source": [
    "sns.lmplot(x=\"gen\", y=\"rincom98\", data=df4, x_estimator=np.mean).set(xlabel='generation', ylabel='income')\n"
   ]
  },
  {
   "cell_type": "markdown",
   "metadata": {},
   "source": [
    "### ENGLISH:\n",
    "Speak english at home(1), Speak other at home(0)"
   ]
  },
  {
   "cell_type": "code",
   "execution_count": null,
   "metadata": {},
   "outputs": [],
   "source": [
    "#create dummy variable for engl/non_engl\n",
    "#df4.loc[df4.spkhome1 == 1] 'engl']\n",
    "df4['engl'] = np.where(df4['spkhome1'] == 1, 1, 0)\n",
    "df4['engl'].describe()"
   ]
  },
  {
   "cell_type": "code",
   "execution_count": null,
   "metadata": {},
   "outputs": [],
   "source": [
    "sns.histplot(df4.engl)"
   ]
  },
  {
   "cell_type": "code",
   "execution_count": null,
   "metadata": {},
   "outputs": [],
   "source": [
    "#run linear regression on personal income ~ engl/non_engl \n",
    "income_lang = sm.ols(formula=\"rincom98 ~ engl\", data=df4).fit()\n",
    "income_lang.summary()"
   ]
  },
  {
   "cell_type": "code",
   "execution_count": null,
   "metadata": {},
   "outputs": [],
   "source": [
    "#plot of english usage at home and personal income\n",
    "sns.lmplot(x='engl', y='rincom98', data=df4, x_estimator=np.mean).set(xlabel='english', ylabel='income')"
   ]
  },
  {
   "cell_type": "code",
   "execution_count": null,
   "metadata": {},
   "outputs": [],
   "source": [
    "sns.boxplot(x='engl', y='rincom98', data=df4).set(xlabel='english', ylabel='income')"
   ]
  },
  {
   "cell_type": "markdown",
   "metadata": {},
   "source": [
    "**Some correlation between english_at_home and personal income**"
   ]
  },
  {
   "cell_type": "code",
   "execution_count": null,
   "metadata": {},
   "outputs": [],
   "source": [
    "imm_lang = sm.ols(formula=\"engl ~ imm\", data=df4).fit()\n",
    "imm_lang.summary()"
   ]
  },
  {
   "cell_type": "code",
   "execution_count": null,
   "metadata": {},
   "outputs": [],
   "source": [
    "sns.lmplot(x='engl', y = 'imm', data=df4, x_estimator=np.mean).set(xlabel='english', ylabel='immigrant')"
   ]
  },
  {
   "cell_type": "code",
   "execution_count": null,
   "metadata": {},
   "outputs": [],
   "source": [
    "sns.boxplot(x='imm', y='engl')"
   ]
  },
  {
   "cell_type": "code",
   "execution_count": null,
   "metadata": {},
   "outputs": [],
   "source": [
    "engl_spkrs = df4[df4['engl'] != 1]\n",
    "engl_spkrs.describe()"
   ]
  },
  {
   "cell_type": "markdown",
   "metadata": {},
   "source": [
    "### CITIZENSHIP:\n",
    "Non-Citizen(0), Citizen(1)"
   ]
  },
  {
   "cell_type": "code",
   "execution_count": null,
   "metadata": {},
   "outputs": [],
   "source": [
    "#create dummy variable for citizen/non_citizen\n",
    "#df4.loc[df4.citizen ==1, 'citzn']\n",
    "\n",
    "df4['citzn'] = (df4['citizen'] == 1).astype(int)\n",
    "df4['citzn'].describe()"
   ]
  },
  {
   "cell_type": "code",
   "execution_count": null,
   "metadata": {},
   "outputs": [],
   "source": [
    "sns.histplot(df4.citzn)"
   ]
  },
  {
   "cell_type": "code",
   "execution_count": null,
   "metadata": {},
   "outputs": [],
   "source": [
    "citizens = df4[df4['citzn'] == 1]\n",
    "citizens.describe()"
   ]
  },
  {
   "cell_type": "code",
   "execution_count": null,
   "metadata": {},
   "outputs": [],
   "source": [
    "#regression of dummy variable citizen and personal income\n",
    "cit_income = sm.ols(formula='rincom98 ~ citzn', data=df4).fit()\n",
    "cit_income.summary()"
   ]
  },
  {
   "cell_type": "code",
   "execution_count": null,
   "metadata": {},
   "outputs": [],
   "source": [
    "#plot of dummy variable citizen and personal income\n",
    "sns.lmplot(x='citzn', y='rincom98', data=df4, x_estimator=np.mean).set(xlabel='citizen', ylabel='income')"
   ]
  },
  {
   "cell_type": "code",
   "execution_count": null,
   "metadata": {},
   "outputs": [],
   "source": [
    "sns.boxplot(x='citzn',y='rincom98', data=df4).set(xlabel='citizen', ylabel='income')"
   ]
  },
  {
   "cell_type": "code",
   "execution_count": null,
   "metadata": {},
   "outputs": [],
   "source": [
    "#correlation between citizenship and immigration status\n",
    "citzn_imm = sm.ols(formula=\"citzn ~ imm\", data=df4).fit()\n",
    "citzn_imm.summary()"
   ]
  },
  {
   "cell_type": "code",
   "execution_count": null,
   "metadata": {},
   "outputs": [],
   "source": [
    "#linear plot of correlation between immigrant and citizenship status\n",
    "sns.lmplot(x=\"citzn\", y = \"imm\", data=df4, x_estimator=np.mean).set(xlabel='immigrant', ylabel='citizen')"
   ]
  },
  {
   "cell_type": "code",
   "execution_count": null,
   "metadata": {},
   "outputs": [],
   "source": [
    "imm_group = df4[df4['imm']==1]\n"
   ]
  },
  {
   "cell_type": "markdown",
   "metadata": {},
   "source": [
    "### EDUCATION:\n",
    "Educational attainment by years in school"
   ]
  },
  {
   "cell_type": "code",
   "execution_count": null,
   "metadata": {},
   "outputs": [],
   "source": []
  },
  {
   "cell_type": "code",
   "execution_count": null,
   "metadata": {},
   "outputs": [],
   "source": [
    "df4['educ'].describe()"
   ]
  },
  {
   "cell_type": "code",
   "execution_count": null,
   "metadata": {},
   "outputs": [],
   "source": [
    "#distribution of educational attaintment\n",
    "sns.histplot(df4.educ).set(xlabel='education')"
   ]
  },
  {
   "cell_type": "code",
   "execution_count": null,
   "metadata": {},
   "outputs": [],
   "source": [
    "educ_income = sm.ols(formula='rincom98 ~ educ', data=df4).fit()\n",
    "educ_income.summary()"
   ]
  },
  {
   "cell_type": "code",
   "execution_count": null,
   "metadata": {},
   "outputs": [],
   "source": [
    "#education and income linear plot\n",
    "sns.lmplot(x=\"educ\", y=\"rincom98\", data=df4, x_estimator=np.mean).set(xlabel='education', ylabel='income')"
   ]
  },
  {
   "cell_type": "code",
   "execution_count": null,
   "metadata": {},
   "outputs": [],
   "source": [
    "#education and immigrant status linear plot\n",
    "sns.lmplot(x=\"imm\", y=\"educ\", data=df4, x_estimator=np.mean).set(xlabel='immigrant', ylabel='education')"
   ]
  },
  {
   "cell_type": "code",
   "execution_count": null,
   "metadata": {},
   "outputs": [],
   "source": [
    "#education and income regression for english speakers\n",
    "engl_spkrs = df4[df4['spkhome1'] == 1]\n",
    "engl_edu_incm = sm.ols(formula='rincom98 ~ educ', data=engl_spkrs).fit()\n",
    "engl_edu_incm.summary()"
   ]
  },
  {
   "cell_type": "code",
   "execution_count": null,
   "metadata": {},
   "outputs": [],
   "source": [
    "#plot of education and income for english speakers\n",
    "sns.lmplot(x='educ', y='rincom98', data=engl_spkrs, x_estimator=np.mean).set(xlabel='Education(English=1)', ylabel='income')"
   ]
  },
  {
   "cell_type": "code",
   "execution_count": null,
   "metadata": {},
   "outputs": [],
   "source": [
    "#education and personal income regression for non english speakers\n",
    "non_engl_spkrs = df4[df4['spkhome1'] != 1]\n",
    "sns.histplot()"
   ]
  },
  {
   "cell_type": "code",
   "execution_count": null,
   "metadata": {},
   "outputs": [],
   "source": [
    "#plot of education and income for non english speakers\n",
    "sns.lmplot(x='educ', y='rincom98', data=non_engl_spkrs, x_estimator=np.mean)"
   ]
  },
  {
   "cell_type": "markdown",
   "metadata": {},
   "source": [
    "### MAIN REGRESSION: \n",
    "Income as a function of Education, English, Citizen, Immigrant"
   ]
  },
  {
   "cell_type": "code",
   "execution_count": null,
   "metadata": {},
   "outputs": [],
   "source": [
    "#regression with on income with 4 variables\n",
    "regr = sm.ols(formula=\"rincom98 ~ educ + engl + citzn + imm\", data=df4).fit()\n",
    "regr.summary()"
   ]
  },
  {
   "cell_type": "code",
   "execution_count": null,
   "metadata": {},
   "outputs": [],
   "source": [
    "## Isolate bottom quartile of population\n",
    "df5 = df4[df4['rincom98'] <= 11]\n",
    "df5['citzn'].describe()"
   ]
  },
  {
   "cell_type": "code",
   "execution_count": null,
   "metadata": {},
   "outputs": [],
   "source": [
    "df6 = df4[df4['rincom98'] >= 19]\n",
    "df6['citzn'].describe()"
   ]
  },
  {
   "cell_type": "code",
   "execution_count": null,
   "metadata": {},
   "outputs": [],
   "source": [
    "imm = df4[df4['imm'] == 1]\n",
    "non_imm = df4[df4['imm'] != 1]"
   ]
  },
  {
   "cell_type": "code",
   "execution_count": null,
   "metadata": {},
   "outputs": [],
   "source": []
  },
  {
   "cell_type": "code",
   "execution_count": null,
   "metadata": {},
   "outputs": [],
   "source": [
    "non_imm.describe()"
   ]
  },
  {
   "cell_type": "code",
   "execution_count": null,
   "metadata": {},
   "outputs": [],
   "source": [
    "#income bracket distribution - immigrants v. natives\n",
    "sns.histplot(data=df4, x=\"rincom98\", hue = \"imm\", binwidth=1, stat=\"density\", common_norm=False).set(xlabel='income', ylabel='Density')"
   ]
  },
  {
   "cell_type": "code",
   "execution_count": null,
   "metadata": {},
   "outputs": [],
   "source": [
    "sns.histplot(data=df4, x=\"rincom98\", hue = \"engl\", binwidth=1, stat=\"density\", common_norm=False).set(xlabel='income', ylabel='Density')"
   ]
  },
  {
   "cell_type": "code",
   "execution_count": null,
   "metadata": {},
   "outputs": [],
   "source": [
    "#educational attainment distribution - immigrants v. natives\n",
    "sns.histplot(data=df4, x=\"educ\", hue = \"imm\", binwidth=1, stat=\"density\", common_norm=False).set(xlabel='education', ylabel='Density')"
   ]
  },
  {
   "cell_type": "code",
   "execution_count": null,
   "metadata": {},
   "outputs": [],
   "source": [
    "#income bracket distribution - citizens v. non-citizens\n",
    "sns.histplot(data=df4, x=\"rincom98\", hue = \"citzn\", binwidth=1, stat=\"density\", common_norm=False).set(xlabel='income', ylabel='Density')"
   ]
  },
  {
   "cell_type": "code",
   "execution_count": null,
   "metadata": {},
   "outputs": [],
   "source": []
  }
 ],
 "metadata": {
  "kernelspec": {
   "display_name": "Python 3",
   "language": "python",
   "name": "python3"
  },
  "language_info": {
   "codemirror_mode": {
    "name": "ipython",
    "version": 3
   },
   "file_extension": ".py",
   "mimetype": "text/x-python",
   "name": "python",
   "nbconvert_exporter": "python",
   "pygments_lexer": "ipython3",
   "version": "3.8.5"
  }
 },
 "nbformat": 4,
 "nbformat_minor": 4
}
